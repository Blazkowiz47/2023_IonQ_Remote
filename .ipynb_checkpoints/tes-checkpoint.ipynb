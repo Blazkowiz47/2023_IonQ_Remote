{
 "cells": [
  {
   "cell_type": "code",
   "execution_count": 1,
   "metadata": {},
   "outputs": [],
   "source": [
    "import numpy as np\n",
    "import math\n",
    "import matplotlib.pyplot as plt\n",
    "from qiskit import QuantumCircuit, execute, IBMQ, BasicAer\n",
    "from qiskit.providers.ibmq import least_busy\n",
    "from qiskit.quantum_info import Statevector\n",
    "from qiskit.visualization import plot_state_qsphere, plot_histogram\n",
    "from qiskit.tools.visualization import circuit_drawer \n",
    "from qiskit.tools.jupyter import *\n",
    "from tqdm import tqdm"
   ]
  },
  {
   "cell_type": "code",
   "execution_count": 2,
   "metadata": {},
   "outputs": [],
   "source": [
    "images = np.load('data/images.npy')"
   ]
  },
  {
   "cell_type": "code",
   "execution_count": 3,
   "metadata": {},
   "outputs": [
    {
     "name": "stdout",
     "output_type": "stream",
     "text": [
      "(2000, 28, 28)\n"
     ]
    }
   ],
   "source": [
    "print(images.shape)"
   ]
  },
  {
   "cell_type": "code",
   "execution_count": 4,
   "metadata": {},
   "outputs": [
    {
     "name": "stdout",
     "output_type": "stream",
     "text": [
      "(2000,)\n"
     ]
    }
   ],
   "source": [
    "labels = np.load('data/labels.npy')\n",
    "print(labels.shape)"
   ]
  },
  {
   "cell_type": "code",
   "execution_count": 5,
   "metadata": {},
   "outputs": [
    {
     "data": {
      "image/png": "[encoded data removed]",
      "text/plain": [
       "<Figure size 640x480 with 1 Axes>"
      ]
     },
     "metadata": {},
     "output_type": "display_data"
    }
   ],
   "source": [
    "i = np.random.randint(2000)\n",
    "plt.hist(images[i])\n",
    "plt.show()"
   ]
  },
  {
   "cell_type": "code",
   "execution_count": 6,
   "metadata": {},
   "outputs": [],
   "source": [
    "img = np.random.rand(2,2)"
   ]
  },
  {
   "cell_type": "code",
   "execution_count": 7,
   "metadata": {},
   "outputs": [],
   "source": [
    "def bin_rep(x, n=8):\n",
    "    t = \"{0:b}\".format(x)\n",
    "    if len(t) < n:\n",
    "        t = '0'*(n-len(t)) + t\n",
    "    elif len(t) > n:\n",
    "        t = t[len(t)-n:]\n",
    "    return t\n",
    "\n",
    "def tofolli(qc: QuantumCircuit,x,y,t):\n",
    "    qc.barrier()\n",
    "    qc.h(t)\n",
    "    qc.cx(y,t)\n",
    "    qc.tdg(t)\n",
    "    qc.cx(x,t)\n",
    "    qc.t(t)\n",
    "    qc.cx(y,t)\n",
    "    qc.tdg(t)\n",
    "    qc.cx(x,t)\n",
    "    qc.t(y)\n",
    "    qc.t(t)\n",
    "    qc.cx(x,y)\n",
    "    qc.h(t)\n",
    "    qc.t(x)\n",
    "    qc.tdg(y)\n",
    "    qc.cx(x,y)\n",
    "    qc.barrier()\n",
    "    return qc\n",
    "\n",
    "def apply_tofolli(qc, n, anc, target, theta):\n",
    "    anc_st = anc\n",
    "    qc.barrier()\n",
    "    for i in range(n):\n",
    "        if i == 0:\n",
    "            qc = tofolli(qc,i,i+1,anc)\n",
    "        elif i == 1:\n",
    "            ...\n",
    "        else:\n",
    "            qc = tofolli(qc,i, anc_st, anc_st+1)\n",
    "            anc_st += 1\n",
    "\n",
    "    qc.cry(theta, anc_st, target)\n",
    "    anc_st -= 1\n",
    "\n",
    "    for i in reversed(range(n)):\n",
    "        if i == 0:\n",
    "            qc = tofolli(qc,i,i+1,anc)\n",
    "        elif i == 1:\n",
    "            pass\n",
    "        else:\n",
    "            qc = tofolli(qc,i, anc_st, anc_st+1)\n",
    "            anc_st -= 1\n",
    "    \n",
    "    qc.barrier()\n",
    "\n",
    "    return qc\n",
    "\n",
    "def apply_x(qc, x,y):\n",
    "    x = bin_rep(x,4)\n",
    "    y = bin_rep(y,4)\n",
    "    t = x+y\n",
    "    qc.barrier()\n",
    "    for i, v in enumerate(t):\n",
    "        if v == '1':\n",
    "            qc.x(i)\n",
    "    qc.barrier()\n",
    "    return qc\n",
    "\n",
    "def pooling(mat,ksize=(2,2),pad=False):\n",
    "    m, n = mat.shape[:2]\n",
    "    ky,kx=ksize\n",
    "\n",
    "    _ceil=lambda x,y: int(np.ceil(x/float(y)))\n",
    "\n",
    "    if pad:\n",
    "        ny=_ceil(m,ky)\n",
    "        nx=_ceil(n,kx)\n",
    "        size=(ny*ky, nx*kx)+mat.shape[2:]\n",
    "        mat_pad=np.full(size,np.nan)\n",
    "        mat_pad[:m,:n,...]=mat\n",
    "    else:\n",
    "        ny=m//ky\n",
    "        nx=n//kx\n",
    "        mat_pad=mat[:ny*ky, :nx*kx, ...]\n",
    "\n",
    "    new_shape=(ny,ky,nx,kx)+mat.shape[2:]\n",
    "\n",
    "    result=np.nanmean(mat_pad.reshape(new_shape),axis=(1,3))\n",
    "\n",
    "    return result\n",
    "\n",
    "\n",
    "def encrypt(data):\n",
    "    data = data * 255 / data.max()\n",
    "    data = data.astype(int)\n",
    "    data = pooling(data)\n",
    "    data = data.astype(int)\n",
    "    n = 8\n",
    "    q = 1\n",
    "    ac = 7\n",
    "    num_qubits = n+q+ac #8 qubits for pixels and 6 qubits for data \n",
    "    qc_image = QuantumCircuit(num_qubits, n+q) \n",
    "\n",
    "    for i in range(n):\n",
    "        qc_image.h(i)\n",
    "\n",
    "\n",
    "    # Add the CNOT gates \n",
    "    for idx , px in np.ndenumerate(data):\n",
    "        if px > 15: \n",
    "            qc_image = apply_x(qc_image,*idx)\n",
    "            qc_image = apply_tofolli(qc_image,n,n+q,n, np.pi * px / (2*240))\n",
    "            qc_image = apply_x(qc_image,*idx)\n",
    "\n",
    "    # #run circuit in backend and get the state vector \n",
    "    # backend = BasicAer.get_backend('statevector_simulator')\n",
    "    # result = execute(qc_image, backend=backend).result() \n",
    "    # output = result.get_statevector(qc_image) \n",
    "\n",
    "    for i in range(n+q):\n",
    "        qc_image.measure(i,i)\n",
    "\n",
    "    return qc_image\n"
   ]
  },
  {
   "cell_type": "code",
   "execution_count": 8,
   "metadata": {},
   "outputs": [],
   "source": [
    "qc_image = encrypt(images[0])\n",
    "# qc_image.draw() \n",
    "# circuit_drawer(qc_image, filename='./qc01', output='mpl') \n",
    "# circuit_drawer(qc_image, filename='./qc02', output='text')\n"
   ]
  },
  {
   "cell_type": "code",
   "execution_count": 9,
   "metadata": {},
   "outputs": [],
   "source": [
    "def decode(hist):\n",
    "    def bin_rep(x, n=8):\n",
    "        t = \"{0:b}\".format(x)\n",
    "        if len(t) < n:\n",
    "            t = '0'*(n-len(t)) + t\n",
    "        elif len(t) > n:\n",
    "            t = t[len(t)-n:]\n",
    "        return t\n",
    "    \n",
    "    n = 16\n",
    "    img = np.zeros((n,n))\n",
    "    \n",
    "    for i in range(n):\n",
    "        for j in range(n):\n",
    "            st =  bin_rep(i,4) + bin_rep(j,4) \n",
    "            st = st[::-1]\n",
    "            st0 = '0' + st\n",
    "            st1 = '1' + st\n",
    "            if st0 in hist and st1 in hist:\n",
    "                c0, c1 = hist[st0], hist[st1]\n",
    "                t = c0+c1\n",
    "                c0,c1 = c0/t, c1/t\n",
    "                img[n-i-1][j] = math.acos(c0-c1)\n",
    "            else:\n",
    "                img[n-i-1][j] = 0\n",
    "            \n",
    "    img = img * 2 * 240 / np.pi\n",
    "    img = img[:-2,2:]\n",
    "    for i in range(14):\n",
    "        img[i] = np.flip(img[i])\n",
    "    return img"
   ]
  },
  {
   "cell_type": "code",
   "execution_count": 10,
   "metadata": {},
   "outputs": [
    {
     "name": "stdout",
     "output_type": "stream",
     "text": [
      "Depth:  20412\n",
      "Ops:  OrderedDict([('cx', 10920), ('t', 7280), ('tdg', 5460), ('barrier', 4420), ('h', 3648), ('x', 936), ('cry', 130), ('measure', 9)])\n"
     ]
    }
   ],
   "source": [
    "qc = encrypt(images[0])\n",
    "print(\"Depth: \" ,qc.depth())\n",
    "print(\"Ops: \",qc.count_ops())"
   ]
  },
  {
   "cell_type": "code",
   "execution_count": null,
   "metadata": {},
   "outputs": [],
   "source": [
    "backend = BasicAer.get_backend('qasm_simulator')\n",
    "shots = 1_000_000\n",
    "results = execute(qc, backend=backend, shots=shots).result()\n",
    "answer = results.get_counts()"
   ]
  },
  {
   "cell_type": "code",
   "execution_count": null,
   "metadata": {},
   "outputs": [],
   "source": [
    "img = decode(answer)\n",
    "plt.imshow(img)"
   ]
  },
  {
   "cell_type": "code",
   "execution_count": null,
   "metadata": {},
   "outputs": [],
   "source": [
    "data = images[0]\n",
    "data = data * 255 / data.max()\n",
    "data = data.astype(int)\n",
    "data = pooling(data)\n",
    "plt.imshow(data)"
   ]
  },
  {
   "cell_type": "code",
   "execution_count": null,
   "metadata": {},
   "outputs": [],
   "source": []
  }
 ],
 "metadata": {
  "kernelspec": {
   "display_name": "Python 3 (ipykernel)",
   "language": "python",
   "name": "python3"
  },
  "language_info": {
   "codemirror_mode": {
    "name": "ipython",
    "version": 3
   },
   "file_extension": ".py",
   "mimetype": "text/x-python",
   "name": "python",
   "nbconvert_exporter": "python",
   "pygments_lexer": "ipython3",
   "version": "3.10.9"
  },
  "vscode": {
   "interpreter": {
    "hash": "dcea15fa88f40796dc4add09ac94b8aa7f1daae199197c1e275ca6c637c70481"
   }
  }
 },
 "nbformat": 4,
 "nbformat_minor": 2
}
