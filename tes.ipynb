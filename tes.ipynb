{
 "cells": [
  {
   "cell_type": "code",
   "execution_count": 20,
   "metadata": {},
   "outputs": [],
   "source": [
    "import numpy as np\n",
    "import matplotlib.pyplot as plt\n",
    "from qiskit import QuantumCircuit, execute, IBMQ, BasicAer\n",
    "from qiskit.providers.ibmq import least_busy\n",
    "from qiskit.quantum_info import Statevector\n",
    "from qiskit.visualization import plot_state_qsphere, plot_histogram\n",
    "from qiskit.tools.visualization import circuit_drawer \n",
    "from qiskit.tools.jupyter import *\n",
    "from tqdm import tqdm"
   ]
  },
  {
   "cell_type": "code",
   "execution_count": 21,
   "metadata": {},
   "outputs": [],
   "source": [
    "images = np.load('data/images.npy')"
   ]
  },
  {
   "cell_type": "code",
   "execution_count": 22,
   "metadata": {},
   "outputs": [
    {
     "name": "stdout",
     "output_type": "stream",
     "text": [
      "(2000, 28, 28)\n"
     ]
    }
   ],
   "source": [
    "print(images.shape)"
   ]
  },
  {
   "cell_type": "code",
   "execution_count": 23,
   "metadata": {},
   "outputs": [
    {
     "name": "stdout",
     "output_type": "stream",
     "text": [
      "(2000,)\n"
     ]
    }
   ],
   "source": [
    "labels = np.load('data/labels.npy')\n",
    "print(labels.shape)"
   ]
  },
  {
   "cell_type": "code",
   "execution_count": 24,
   "metadata": {},
   "outputs": [
    {
     "data": {
      "image/png": "[encoded data removed]",
      "text/plain": [
       "<Figure size 640x480 with 1 Axes>"
      ]
     },
     "metadata": {},
     "output_type": "display_data"
    }
   ],
   "source": [
    "i = np.random.randint(2000)\n",
    "plt.hist(images[i])\n",
    "plt.show()"
   ]
  },
  {
   "cell_type": "code",
   "execution_count": 25,
   "metadata": {},
   "outputs": [],
   "source": [
    "img = np.random.rand(2,2)"
   ]
  },
  {
   "cell_type": "code",
   "execution_count": 172,
   "metadata": {},
   "outputs": [],
   "source": [
    "def bin_rep(x, n=8):\n",
    "    t = \"{0:b}\".format(x)\n",
    "    if len(t) < n:\n",
    "        t = '0'*(n-len(t)) + t\n",
    "    elif len(t) > n:\n",
    "        t = t[len(t)-n:]\n",
    "    return t\n",
    "\n",
    "def encrypt(data):\n",
    "    data = data * 255 / data.max()\n",
    "    data = data.astype(int)\n",
    "    # M, N = data.shape\n",
    "    # K = 2\n",
    "    # L = 2\n",
    "    # MK = M // K\n",
    "    # NL = N // L\n",
    "    # data = data[:MK*K, :NL*L].reshape(MK, K, NL, L).max(axis=(1, 3))\n",
    "    data = data.flatten()\n",
    "    # assume in \n",
    "    # I : 0 - 5\n",
    "    # X 6 - 10\n",
    "    # Y 11 - 15\n",
    "    \n",
    "    # Step 1 load blank image\n",
    "    for i in range(6,16):\n",
    "        qc.h(i)\n",
    "    \n",
    "    # Step 2:\n",
    "    final_output = [] \n",
    "    n = 10\n",
    "    q = 6\n",
    "    num_qubits = n+q #8 qubits for pixels and 6 qubits for data \n",
    "    qc_image = QuantumCircuit(num_qubits, num_qubits) \n",
    "\n",
    "    # Create the pixel position qubits, and place them in superposition. \n",
    "    # qc_pos = QuantumCircuit(n) \n",
    "    for i in range(q):\n",
    "        qc_image.h(i) \n",
    "\n",
    "    for idx in range(q,num_qubits): \n",
    "        qc_image.i(idx) \n",
    "\n",
    "    # Add the CNOT gates \n",
    "    for i , px in enumerate(data): \n",
    "        qc_image.x(num_qubits-1) \n",
    "        for idx, px_value in enumerate(bin_rep(px, q)): \n",
    "            if px_value=='1': \n",
    "                qc_image.ccx(num_qubits-1,num_qubits-2, idx) \n",
    "        qc_image.x(num_qubits-1) \n",
    "        qc_image.barrier() \n",
    "\n",
    "    # #run circuit in backend and get the state vector \n",
    "    # backend = BasicAer.get_backend('statevector_simulator')\n",
    "    # result = execute(qc_image, backend=backend).result() \n",
    "    # output = result.get_statevector(qc_image) \n",
    "\n",
    "    for i in range(num_qubits):\n",
    "        qc_image.measure(i,i)\n",
    "\n",
    "    return qc_image\n",
    "    \n"
   ]
  },
  {
   "cell_type": "code",
   "execution_count": null,
   "metadata": {},
   "outputs": [],
   "source": [
    "qc_image, sv = encrypt(images[0])\n",
    "qc_image.draw() \n",
    "# circuit_drawer(qc_image, filename='./qc01', output='mpl') \n",
    "# circuit_drawer(qc_image, filename='./qc02', output='text')\n"
   ]
  },
  {
   "cell_type": "code",
   "execution_count": 190,
   "metadata": {},
   "outputs": [],
   "source": [
    "def decode(hist):\n",
    "    def bin_rep(x, n=8):\n",
    "        t = \"{0:b}\".format(x)\n",
    "        if len(t) < n:\n",
    "            t = '0'*(n-len(t)) + t\n",
    "        elif len(t) > n:\n",
    "            t = t[len(t)-n:]\n",
    "        return t\n",
    "    dp = {}\n",
    "    for i in range(32):\n",
    "        for j in range(32):\n",
    "            dp[bin_rep(i,5) + bin_rep(j,5)] = (i,j) \n",
    "    fdp = {}\n",
    "    for k , v in dp.items():\n",
    "        for i in range(64):\n",
    "            fdp[reversed(bin_rep(i, 6) + k)] = v\n",
    "    img = np.zeros((28,28))\n",
    "    for i in range(28):\n",
    "        for j in range(28):\n",
    "            t = [k for k , v in fdp.items() if v == (i,j)]\n",
    "            p = -1\n",
    "            res = None\n",
    "            for st in t:\n",
    "                if st in hist:\n",
    "                    if hist[st] > p:\n",
    "                        p = hist[st]\n",
    "                        res = st\n",
    "            \n",
    "            img[i][j] = int(res[:6],2) if res else 0\n",
    "            \n",
    "    img = img*255/ (img.max() if img.max() != 0 else 1)\n",
    "    return img"
   ]
  },
  {
   "cell_type": "code",
   "execution_count": 173,
   "metadata": {},
   "outputs": [],
   "source": [
    "qc = encrypt(images[0])\n"
   ]
  },
  {
   "cell_type": "code",
   "execution_count": 174,
   "metadata": {},
   "outputs": [],
   "source": [
    "backend = BasicAer.get_backend('qasm_simulator')\n",
    "shots = 1_000_000\n",
    "results = execute(qc, backend=backend, shots=shots).result()\n",
    "answer = results.get_counts()"
   ]
  },
  {
   "cell_type": "code",
   "execution_count": 191,
   "metadata": {},
   "outputs": [
    {
     "data": {
      "text/plain": [
       "<matplotlib.image.AxesImage at 0x1dad28627d0>"
      ]
     },
     "execution_count": 191,
     "metadata": {},
     "output_type": "execute_result"
    },
    {
     "data": {
      "image/png": "[encoded data removed]",
      "text/plain": [
       "<Figure size 640x480 with 1 Axes>"
      ]
     },
     "metadata": {},
     "output_type": "display_data"
    }
   ],
   "source": [
    "img = decode(answer)\n",
    "plt.imshow(img)"
   ]
  },
  {
   "cell_type": "code",
   "execution_count": 111,
   "metadata": {},
   "outputs": [
    {
     "data": {
      "text/plain": [
       "<matplotlib.image.AxesImage at 0x1dabaa9c0d0>"
      ]
     },
     "execution_count": 111,
     "metadata": {},
     "output_type": "execute_result"
    },
    {
     "data": {
      "image/png": "[encoded data removed]",
      "text/plain": [
       "<Figure size 640x480 with 1 Axes>"
      ]
     },
     "metadata": {},
     "output_type": "display_data"
    }
   ],
   "source": [
    "plt.imshow(images[0])"
   ]
  },
  {
   "cell_type": "code",
   "execution_count": null,
   "metadata": {},
   "outputs": [],
   "source": []
  }
 ],
 "metadata": {
  "kernelspec": {
   "display_name": "qic",
   "language": "python",
   "name": "python3"
  },
  "language_info": {
   "codemirror_mode": {
    "name": "ipython",
    "version": 3
   },
   "file_extension": ".py",
   "mimetype": "text/x-python",
   "name": "python",
   "nbconvert_exporter": "python",
   "pygments_lexer": "ipython3",
   "version": "3.10.9"
  },
  "orig_nbformat": 4,
  "vscode": {
   "interpreter": {
    "hash": "dcea15fa88f40796dc4add09ac94b8aa7f1daae199197c1e275ca6c637c70481"
   }
  }
 },
 "nbformat": 4,
 "nbformat_minor": 2
}
